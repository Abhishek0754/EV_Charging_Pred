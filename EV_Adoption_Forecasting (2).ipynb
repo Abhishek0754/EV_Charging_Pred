{
 "cells": [
  {
   "cell_type": "code",
   "execution_count": null,
   "id": "59577da4",
   "metadata": {},
   "outputs": [],
   "source": [
    "# Import libraries\n",
    "import numpy as np\n",
    "import pandas as pd\n",
    "import matplotlib.pyplot as plt\n",
    "import seaborn as sns\n",
    "from sklearn.ensemble import RandomForestRegressor\n",
    "from sklearn.model_selection import train_test_split\n",
    "from sklearn.metrics import mean_squared_error, r2_score"
   ]
  },
  {
   "cell_type": "code",
   "execution_count": null,
   "id": "aa6392c4",
   "metadata": {},
   "outputs": [],
   "source": [
    "# Load dataset\n",
    "df = pd.read_csv('Electric_Vehicle_Population_By_County.csv')\n",
    "df.head()  # Output: displays first 5 rows of the dataset"
   ]
  },
  {
   "cell_type": "code",
   "execution_count": null,
   "id": "bd3a3b8b",
   "metadata": {},
   "outputs": [],
   "source": [
    "# Data info and missing values check\n",
    "df.info()  # Output: shows column names, non-null counts, and data types\n",
    "df.isnull().sum()  # Output: total missing values per column"
   ]
  },
  {
   "cell_type": "code",
   "execution_count": null,
   "id": "db728f21",
   "metadata": {},
   "outputs": [],
   "source": [
    "# Outlier detection in EV percentage\n",
    "Q1 = df['Percent Electric Vehicles'].quantile(0.25)\n",
    "Q3 = df['Percent Electric Vehicles'].quantile(0.75)\n",
    "IQR = Q3 - Q1\n",
    "lower_bound = Q1 - 1.5 * IQR\n",
    "upper_bound = Q3 + 1.5 * IQR\n",
    "outliers = df[(df['Percent Electric Vehicles'] < lower_bound) | (df['Percent Electric Vehicles'] > upper_bound)]\n",
    "print('Outliers found:', outliers.shape[0])  # Output: number of outlier rows"
   ]
  },
  {
   "cell_type": "code",
   "execution_count": null,
   "id": "3d2c5d3e",
   "metadata": {},
   "outputs": [],
   "source": [
    "# Date cleanup and missing handling\n",
    "df['Date'] = pd.to_datetime(df['Date'], errors='coerce')\n",
    "df = df[df['Date'].notnull()]\n",
    "df = df[df['Electric Vehicle (EV) Total'].notnull()]\n",
    "df['County'] = df['County'].fillna('Unknown')\n",
    "df['State'] = df['State'].fillna('Unknown')"
   ]
  },
  {
   "cell_type": "code",
   "execution_count": null,
   "id": "ac63ac8b",
   "metadata": {},
   "outputs": [],
   "source": [
    "# Cap outliers\n",
    "df['Percent Electric Vehicles'] = np.where(df['Percent Electric Vehicles'] > upper_bound, upper_bound,\n",
    "    np.where(df['Percent Electric Vehicles'] < lower_bound, lower_bound, df['Percent Electric Vehicles']))\n",
    "\n",
    "outliers = df[(df['Percent Electric Vehicles'] < lower_bound) | (df['Percent Electric Vehicles'] > upper_bound)]\n",
    "print('Outliers after capping:', outliers.shape[0])  # Output: should be 0"
   ]
  },
  {
   "cell_type": "code",
   "execution_count": null,
   "id": "afa0d762",
   "metadata": {},
   "outputs": [],
   "source": [
    "# (Optional) Visualization\n",
    "sns.boxplot(data=df, y='Percent Electric Vehicles')\n",
    "plt.title('Capped EV Percentage')\n",
    "plt.show()  # Output: Boxplot without extreme outliers"
   ]
  }
 ],
 "metadata": {},
 "nbformat": 4,
 "nbformat_minor": 5
}
